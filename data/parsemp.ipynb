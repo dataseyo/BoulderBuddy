{
 "cells": [
  {
   "cell_type": "markdown",
   "source": [
    "## Get Crag and Boulder Data from Mountain Project"
   ],
   "metadata": {}
  },
  {
   "cell_type": "code",
   "execution_count": 1,
   "source": [
    "from html.parser import HTMLParser\n",
    "import requests\n",
    "from bs4 import BeautifulSoup\n",
    "import json\n",
    "import random\n",
    "import pymongo\n",
    "import json\n",
    "from pymongo import MongoClient, InsertOne\n",
    "\n",
    "# url = 'https://www.mountainproject.com/route-finder?diffMaxaid=75260&diffMaxboulder=21700&diffMaxice=38500&diffMaxmixed=60000&diffMaxrock=5500&diffMinaid=70000&diffMinboulder=20000&diffMinice=30000&diffMinmixed=50000&diffMinrock=1800&is_sport_climb=1&is_top_rope=1&is_trad_climb=1&pitches=0&selectedIds=105880382&sort1=area&sort2=rating&stars=0&type=boulder&viewAll=1'\n",
    "# html_from_url = requests.get(url).text\n",
    "# html_soup = BeautifulSoup(html_from_url, 'html.parser')\n",
    "\n",
    "url = 'https://www.mountainproject.com/'\n",
    "html_from_url = requests.get(url).text\n",
    "soup = BeautifulSoup(html_from_url, 'html.parser')\n"
   ],
   "outputs": [],
   "metadata": {}
  },
  {
   "cell_type": "code",
   "execution_count": 2,
   "source": [
    "def getStates():\n",
    "    crags = {}\n",
    "    for div in soup.find_all(\"div\", { \"id\": \"route-guide\"}):\n",
    "        strong = []\n",
    "        for state in div.select(\"strong\"):\n",
    "            strong.append(state)\n",
    "    return strong\n",
    "        \n",
    "states_html = getStates()\n"
   ],
   "outputs": [],
   "metadata": {}
  },
  {
   "cell_type": "code",
   "execution_count": 3,
   "source": [
    "def getCrags(html):\n",
    "    for location in html:\n",
    "                a = location.find_all_next(\"div\", { \"class\" : \"ml-half\"})\n",
    "                for crag in a:\n",
    "                    return crag.find(\"a\").get_text()\n",
    "                    \n",
    "crags = getCrags(states_html)"
   ],
   "outputs": [],
   "metadata": {}
  },
  {
   "cell_type": "code",
   "execution_count": 160,
   "source": [
    "lcc_url = 'https://www.mountainproject.com/route-finder?diffMaxaid=75260&diffMaxboulder=21700&diffMaxice=38500&diffMaxmixed=60000&diffMaxrock=5500&diffMinaid=70000&diffMinboulder=20000&diffMinice=30000&diffMinmixed=50000&diffMinrock=1800&is_sport_climb=1&is_top_rope=1&is_trad_climb=1&page=6&pitches=0&selectedIds=105739277&sort1=area&sort2=rating&stars=0&type=boulder&viewAll=1'\n",
    "content = []\n",
    "\n",
    "def getPages(page):\n",
    "    # initialize dictionary\n",
    "    dict = {}\n",
    "\n",
    "    html_from_url = requests.get(page, '').text\n",
    "    soup = BeautifulSoup(html_from_url, 'html.parser')\n",
    "    soup_row = soup.find_all(\"tr\", {\"class\" : \"route-row\"})\n",
    "    for item in soup.select(\"div.main-content-container tr.route-row td\"):\n",
    "        if item.select(\"div.text-truncate > strong\") != []:\n",
    "            dict[item.select(\"div.text-truncate > strong\")[0].text] = item.select(\"span.rateYDS\")[0].text\n",
    "    \n",
    "    return dict\n",
    "\n",
    "print(getPages(lcc_url))"
   ],
   "outputs": [
    {
     "output_type": "stream",
     "name": "stdout",
     "text": [
      "{'Slab': 'V2-3', 'Slab 2': 'V0', 'Slab 3': 'V0', 'Shorty': 'V0', 'Arete': 'V5', 'Rails': 'V1', 'Secret Garden Arete': 'V2', 'Unknown sloper problem': 'V4', 'Bearhug Stand': 'V4', 'Twisted': 'V4', 'Lances Dihedral': 'V6', 'Twisted Sit': 'V6', 'Manly Arete': 'V6-7', \"Johnny's Mantle\": 'V7-8', 'Shothole Arete': 'V8', 'Bear Hug': 'V8', 'Not Copperhead': 'V9', 'Jonny’s Mom’s Backdoor': 'V10', 'Breaking Dawn': 'V10', 'Funky Bunch SDS': 'V10', 'Copperhead': 'V10', 'Breaking Dawn Sit': 'V11', 'Back Door Bear Hug (AKA Mr. Mom…': 'V11', \"Johnny's Bunch.\": 'V12', 'Backdoor Bunch': 'V13', 'Direct North Face of Shothole': 'V0', 'Stepson': 'V0', 'Downclimb arete': 'V0', 'Easy Arete': 'V1', 'Where Have the Holds Gone': 'V1-2', 'Burly stand start': 'V3', 'Insecurity Checkpoint': 'V3', 'Go Right': 'V3', 'The Lair': 'V3-4', \"Dan's Problem\": 'V4', 'Hideout': 'V4', 'Chip Butty': 'V5', 'Warm Up Dyno': 'V5', 'No Warm Up': 'V6', 'Burly': 'V7', 'All Thumbs': 'V10', 'Appollo': 'V0', 'Goldy Sit': 'V1', 'Cut Through Flying Carpet': 'V1-2', 'More Edges': 'V2-', 'Wacko Arete': 'V2', 'Balancing Act': 'V2', 'Get Up': 'V2', 'USA': 'V2-3', 'Edges': 'V2-3', 'Flying Carpet': 'V4', 'Rug Dr.': 'V5-6', 'The Offwidth': '5.6', 'Another Face': 'V1', 'Gritty Face': 'V4', 'Space': 'V0', 'Shingles Stand Start': 'V4+', 'Campus Problem': 'V7', \"Lance's Scary\": 'V6', 'Bully Stand': 'V9', 'Shingles': 'V9', 'Wedgie': 'V11', 'Ciao': 'V11-12', 'Bully': 'V11-12', 'Ching': 'V12', '50 Shades of Spray': 'V13', 'Noogie': 'V13', 'Bling': 'V14', 'Bored Stiff': 'V5', 'Big Paw': 'V7+', 'Fat Grips': 'V9-', 'Morbidly Obese Grips': 'V10', 'Patina Face': 'V0', 'Smooth': 'V0', 'The Scoop': 'V1', \"Cynthia's Arete\": 'V3', 'Old School': 'V3', 'Klemonade': 'V3+', 'Klemonade Sit': 'V4', 'Rub My Butt': 'V4', 'Cynthia’s Arete Sit': 'V4', 'Bud Lite': 'V0', 'Malt': 'V0-1', 'Hops': 'V4', 'Saint James Gate': '5.13', 'Beer Can Cave': 'V10', 'The Crystal Vein': 'V4', 'Huxtable Pogey': 'V8-9', 'Edgy Face': 'V4', 'West Face of the Tower': 'V1', 'Drive By': 'V3', \"Lance's Crack\": 'V4', 'Lordy': 'V3', 'Oh God': 'V5+', 'Cartoon': 'V8', 'St Nick': 'V9', 'The Jug Problem': 'V0', 'First High Step': 'V0', 'The Ramp': 'V2-3', 'E.B.P.': 'V3', 'Arete Mantel': 'V3', 'Arm Breaker (low start)': 'V4', 'First Overhang': 'V0', 'East Arete': 'V0', 'The Gate Mantle': 'V2', 'Pump Traverse': 'V3', 'Tester': 'V3', 'Standard Overhang': 'V3', 'Groove Mantle': 'V3', 'Crystal Traverse': 'V4', \"Isabelle's\": 'V5', 'Crystal Pinch': 'V6', 'Superfly': 'V8', 'Barfly': 'V8', 'Full Standard': 'V10', 'Amateur Series': 'V11-', 'Pro Series': 'V11', 'Masters Series': 'V11', 'Green Slab Center': 'V0', 'Right Arete': 'V0', 'The Gate Chimney': 'V1', 'Barn Door': 'V2', 'Left Side': 'V2-3', 'The Snatch': 'V2-3', 'Surprise Ending': 'V3', 'Left Side Direct': 'V4', 'The Snatch (Direct)': 'V4', 'Crystal Arete': 'V4', 'Party Trick': 'V4', 'Arrows at Ezel': 'V8-9', 'The Flake': 'V1-', 'Greasy Traverse': 'V1-2', \"Hong's Pinch Layback\": 'V4-5', 'Spinal Twist': 'V13', 'Teabag': 'V0', 'Jug Doctor': 'V0', 'Rosenpants': 'V1', 'The Entry': 'V2', 'The Breezeway': 'V2', 'Roundroom Arete': 'V3', 'The Round Room': 'V6-', 'The Wave': 'V0', 'The Anonymous Arete': 'V5-6', 'Honey': 'V0', 'Pie': 'V2', 'Coffee Girl': 'V3', 'Chickenhead Arete': 'V5', 'Something Saucy': 'V5', 'The Shoe': 'V2-', 'Hidden Arete': 'V4', 'Red Stain': 'V4', 'M&M Roof': 'V7', 'Potty Mouth aka I Chew Chew Chew…': 'V2+', 'Hidden': 'V1-2', 'Bilbo': 'V5', 'Far Away Horse': 'V2', 'The Fin': 'V7-8', 'The Shield': 'V4', 'Left Arete Shield': 'V5+', 'Left Shield Face': 'V6-7', 'Unknown': 'V1', 'Scared to Come Out of the Closet': 'V7', 'Left Start to Shield': 'V7-8', 'Unnamed': 'V8', 'The Red C': 'V10', 'Banjo Slab': 'V2', 'Secret Slab': 'V7-8', 'Triangle Compression': 'V4', 'Pipeline Downclimb': 'V0', 'South East Arete': 'V1', 'The Big Guy': 'V2', \"Don't Fall\": 'V3', \"Lance's Arete\": 'V3', 'Hike': 'V3-4', 'Peanut Shell': 'V4', 'Pride': 'V4', 'Drool': 'V4', 'Static Drool': 'V4+', 'Cattleguard': 'V5', 'Bell Memorial Arete': 'V5', \"Tim's Slab\": 'V5-6', 'River Crack Direct': 'V6', 'Maisch Slab': 'V6+', 'Rejection': 'V6-7', 'Ditch Witch': 'V8', 'Extreme Hammocking': 'V8', 'Smells Like Font (AKA Caught in…': 'V8-9', 'Ditch Witch Sit': 'V10', 'Smog Arete': 'V10', 'Eclipse': 'V12', 'Jack Horner': 'V12', 'Smog Low': 'V13', 'Eclipse SDS': 'V13', 'Shark Arete': 'V1', 'Blubber': 'V1', 'Arete and Face': 'V0', 'The Mormons Strike Again': 'V0', 'Drilled Holes': 'V0', 'Crack': 'V1', 'Bulge': 'V1', 'Grippin’ Grain': 'V2', 'Lipstick': 'V1', 'Chapstick': 'V4', 'Bulge II': 'V4', 'Right Bulge': 'V5', 'Blank Arete': 'V3', 'Number 3': 'V4', 'Jen and Kira': 'V4', 'Blimey': 'V4', 'Thread Ripper': 'V3-4', 'Inside Corner': 'V4', 'Knuckles': 'V4', 'Troughalga': 'V2', 'Pocket Problem': 'V3', 'Golden Slab': 'V0', 'Line O’ Holes': 'V1', 'Far Out': 'V7', 'Asbestos Corner': 'V1', 'Chip the Crack': 'V1', 'Shothole Number One': 'V2', 'Ford Fairmont Left': 'V4', 'Unnamed V4': 'V4', 'Ford Fairmont Futura': 'V4', 'Roadside Arete': 'V4', 'Little Redacted': 'V3', 'Deception': 'V7-8', 'The Great Escape Sit': 'V7-8', 'Honk my Horn': 'V4', \"Cronin's Move (AKA The Lollipop…\": 'V-easy', 'Children Killer Arete': 'V0', 'Cruiser': 'V1-', 'See Me': 'V1', 'Tight Shirts Face': 'V1', 'Double Dyno': 'V2', 'Dean Problem - Arete': 'V2', 'Chickenhead Love': 'V2', 'I Kill Children': 'V2', \"Jack's Slab\": 'V2', 'Circus Freak': 'V2', 'Christopher Reeve': 'V2', \"Cronin's Slab\": 'V2', 'Ugly Crack': 'V3-', \"A Tiger's Bulge\": 'V3', 'Spread em': 'V3', 'The Monolith': '5.11b', 'Fat Albert Gang': 'V3', 'Blotter is my Spotter': 'V4', 'Shrimps': 'V4', 'A Bit Slopey': 'V4', 'Snake Pliskin': 'V4', 'Mono Move': 'V4', 'Cracker': 'V4', 'Fire Exit': 'V4', 'Fungus': 'V4-5', \"Tom's Problem\": 'V5', 'Salad': 'V5', \"Boone's Bane\": 'V5', 'Dean Problem': 'V5-6', 'Worm Churns': 'V6-7', 'Tiger Snake': 'V7', 'Baggins Right, Early Exit': 'V7', 'Fat Albert Face': 'V7-8', 'Garden Snake': 'V7-8', 'Wormhole Left': 'V8-9', 'Tiger Snake Venom': 'V9', 'Baggins Right, Left Exit': 'V9-10', 'Middle Earth': 'V10-11', 'Baggins': 'V11', 'Professor Maisch': 'V11', 'Baggins, Left Exit': 'V12', 'Lot': 'V0-', 'The Wall': 'V2', 'Southwest Arete': 'V0-', 'Rooster': 'V0', 'Shelf Arete': 'V0', 'Middle Problem': 'V1', 'Ping Pong': 'V1', \"Paul's Arete\": 'V1', 'Right of Middle': 'V1', 'Sting Pong': 'V1+', 'Morphologic': 'V7-8', 'Beached Whale': 'V1', 'Ruth Guns': 'V3', 'Fortune Cookie': 'V5', 'Chinese Arete': 'V6-', 'Left of Right': 'V0', 'Right': 'V0', 'Far Right': 'V0', 'Right of Left': 'V1', 'Left Slab': 'V2', 'Don’t Dab': 'V4', 'Runaway Shane (aka Corner)': 'V8', 'Eliminator': 'V1', 'Mossy Caterpillar': 'V2+', \"Cynthia's Problem (Lip Traverse…\": 'V3', 'Mini-Bulge': 'V3', \"Cynthia's Problem\": 'V4', 'The Minch Wide Start': 'V4', 'The Minch': 'V6', 'Head On': 'V7', 'Head Left': 'V8-', 'Uno Equis': 'V8', 'Eliminator Variation': 'V8', 'Eliminator Variation Sit': 'V9', 'Mattress': 'V9', 'The Spike': 'V0', 'Spike Right': 'V6', 'Spike Sit': 'V7', 'Caveman': 'V4', 'Pocket Rocket': 'V5-', 'Shoulder Socket Rocket': 'V7-', 'Message of Violence': 'V11', 'Message of Violence, Right Varia…': 'V11', 'One Of The Ones': 'V10+', 'Legends Only (aka The Corpse)': 'V11', 'Fudge Ripple': 'V1-2', 'Blunder': 'V3', 'Honeycomb': 'V5', 'Prowler': 'V7-', 'The Good Bitch AKA Good Listener…': '5.13b/c', 'The Good Listener': 'V9', 'The Good Plower': 'V10-', 'Squeege': 'V12', 'Jugs': 'V0-', 'Pinch Me': 'V0', 'Vee': 'V0', 'Warm Up Arete': 'V0+', 'Ramp Move': 'V1', 'Fang': 'V1-2', 'Skin The Cat': 'V2-', 'Eastern Ways': 'V2', 'Wacko': 'V2-3', 'Hidden Fish': 'V3-', 'Eastern Ways Traverse': 'V3', 'Closer': 'V3', 'Over The Top': 'V4', 'Happy J': 'V8', 'Facies': 'V1', 'Offset (?)': 'V1', \"Stacie's Face\": 'V1', 'West Arete': 'V1-2', 'Arse': 'V2', \"Sean's Scum\": 'V2-3', 'Rooted Right': 'V3', 'Rooted': 'V3', 'Full Mindy': 'V5', 'Misty Flip': 'V5', 'Karate': 'V5', 'Full Karate': 'V5-6', 'Citizen Dildo': 'V7', \"Eric's Arete\": 'V8', 'NBA Blues': 'V5', 'Ring Toss': 'V5', 'Digger': 'V6', 'Cock Ring': 'V10-', 'Mom': 'V1', 'Deserter': 'V1', 'Karncruncher': 'V2', 'Puncher': 'V3', 'Face Off': 'V6', 'The Party is Over Arete': 'V6', 'After Party': 'V6+', 'Face Off Right': 'V8', 'After Party Arete Low': 'V9', 'Full Sail': 'V2', 'Thug Lovin': 'V3', 'Pinchay': 'V3', 'Tequila Sunset': 'V4', 'Quesadilla': 'V5', \"Stephan's Dihedral\": 'V7', 'Party Pooper': 'V4', 'Party Pit Roof': 'V6-', 'Yeero': 'V7', 'British Knights Variation': 'V8', 'Euro': 'V10', 'British Knights': 'V10', 'Euro Boof': 'V10-11', 'Euro Trash': 'V12', 'Euro Roof Low': 'V13', 'Grand Illusion': 'V16', \"Matt's Roof\": 'V8-', \"Matt's Roof Right\": 'V8-9', 'Mangalyaan': 'V9-10', 'The Dirty Burger': 'V11', 'Sunburst Arete': 'V5', 'Angry Little Monster': 'V7', 'Physicality': 'V7', 'Physical Monsters': 'V10-', 'Night Shift': 'V11', \"The Party's Down Here\": 'V0', \"Mike's Face\": 'V3', 'Hourglass Arete': 'V3+', 'Unknown Direct': 'V4-5', \"Mike's Face Traverse\": 'V7', 'Brümhilde': 'V3', 'Cage free': 'V3', 'Left Arete': 'V3-4', 'Soon Gone': 'V4', 'Summertime blues': 'V7', 'Nest Egg': 'V7', 'Nest Egg Sit': 'V9', 'Sleeves': 'V10', 'Stubby': 'V1', 'The Underling': 'V8', 'Party Starter': 'V0', 'Pizza Slice': 'V1', 'South Pinnacle': 'V1', 'North Pinnacle': 'V2', 'Lost Arete': 'V0', 'Thunderstorm': 'V1', 'Disappear': 'V2', 'Lost': 'V3', 'Packs a Punch': 'V6-7', 'Cyclical Sun': 'V5', 'Meadow Face': 'V6', 'Meadow Arete?': 'V7', 'Fern Bar': 'V0', 'Moose Arete': 'V0', 'Chaka': 'V0', 'East Face Warm Ups': 'V0-1', 'Tiny Dancing Flakes in the Golde…': 'V1', 'Meadow Muffin': 'V2', 'Land of the Lost': 'V3', 'I Want a Hug': 'V4', 'Sleastak': 'V5', 'Hermit Thrush': 'V2', 'Whirlybird': 'V6+', 'Slippery Little Snake': 'V3', 'Boner': 'V8', 'Albino': 'V2', 'Sidepull Problem': 'V2-3', 'Cirroc': 'V3+', 'V3plus': 'V4', 'Redheaded Stepchild Direct': 'V4', 'Undercling Problem (aka Undercli…': 'V5', 'Unknown Arete': 'V5', 'Cragger Rimjob': 'V6', 'Redheaded Stepchild': 'V6', 'Maisch Cracker': 'V6-7', 'Unknown Seam Dihedral': 'V7', 'The Sprinkler': 'V7', 'Gash Cracker': 'V7-8', 'Dunce Bill': 'V7-8', 'Mormon Gash': 'V8-', 'Chocolate Starfish': 'V8-9', 'Looney Bin Cave': 'V8-9', 'Rainbow Assassins': 'V9', 'Rainbow Traverse': 'V9', 'The Tempest': 'V9', 'ACAB': 'V10', 'White Child': 'V10', 'The World According to Sam': 'V10', 'What We Do In The Shadows': 'V11', 'Year of the Spamb - Right Variation': 'V4', 'Year of the Spamb': 'V6-', 'Year of the Lamb': 'V9', 'Year of the Lamb Cave Start': 'V10', 'Leftist YOTL': 'V10+', 'Gap Year': 'V11-', 'Leapt Year': 'V11-12', 'Leap Year': 'V12-', 'Slabmaster': 'V0', 'Mantle Man': 'V1-', 'Big Mouth': '5.9', 'Sharpie': 'V1', 'Cheese Whiz Stand Start': 'V2', 'Caress': 'V2', 'Green Face': 'V3', 'The Knob': 'V3', 'Pooper': 'V4', 'Draw': 'V4', 'Surfboard Sit Start': 'V4', 'Green Face Sit Start': 'V4', 'Smiley Right': 'V4', 'Baldy': 'V4', 'Surfboard': 'V4', 'Other Roof': 'V4-5', 'Lance’s slab': 'V5', 'Kung Fu': 'V6', 'Mr Smiley': 'V6', 'Two Giant Steps': 'V6+', \"Steven's Arete\": 'V7', \"Webb's Slab\": 'V7+', 'Butt Trumpet': 'V8', 'Mr. Smiley SDS': 'V8', 'Two Giant Steps SDS': 'V9-10', '12 Step Program': 'V10', 'Butt Trumpet Direct Mantle': 'V10', 'Butt Trumpet Reverse': 'V10', \"Webb's Eliminate\": 'V10', 'Cheese Whiz': 'V11', 'Southside Boulder': 'V1+', 'The Pugalist': 'V4', 'V4': 'V3', 'The Hole': 'V3', 'Direct Worms': 'V4', 'The Heroin Face Right': 'V6', 'The Heroin Face Left': 'V6', 'The Worms': 'V6', \"Not Cronin's Dyno\": 'V7-8', 'The Fix': 'V7-8', \"Not Cronin's Dyno sds\": 'V8+', \"River's Edge Traverse\": 'V3', 'Mikes Slab': 'V3', 'Riverside Arete': 'V3', 'Feck': 'V4', 'Jim': 'V4', 'Flak': 'V4+', 'Jim Direct': 'V4-5', \"Boone's Problem\": 'V5', 'Riverside Arete - Right Variation': 'V5', \"Dale's Problem\": 'V6', 'Shivers': 'V7', \"Bronson's Arete\": 'V8', \"Ridilin'\": 'V9', 'Bronson': 'V9', 'Eliminates are Dumb': 'V1-2', 'Anvil': 'V2-', 'Jingle Bells': 'V0', 'Trailside': 'V0', 'Seam': 'V1', 'Special Purpose Left': 'V2', 'My Special Purpose': 'V4', 'See World': 'V0', 'Monstro - Stand Start': 'V2', 'The Wreck': 'V0', \"Ray's Arete\": 'V0', 'UFO': 'V2-', 'Ray’s Slab': 'V2', 'Papa Bells': 'V1+', \"Paul's Wisdom\": 'V0', \"Paul's problem\": 'V2+', 'Chealy': 'V3', 'Prototype Chealy': 'V3', 'Thumb You': 'V3+', 'Big City': 'V0', 'Unknown V0 slab': 'V0', 'Dirty Arete': 'V1', 'Jason': 'V1+', \"Stacie's Arete\": 'V2', 'Jason Variation': 'V2', \"Weigand's Slab Right\": 'V2', 'Ouch Variation Left': 'V2', 'Tree Hugger': 'V3', 'Miller Time': 'V3', 'Ouch': 'V3', 'Forgotten': 'V3', 'Ringer': 'V3', \"Stacie's Mom\": 'V3+', 'Clockwork': 'V4', \"Garth's Roof (Stand Start)\": 'V4', 'Classy Corner': 'V4', 'Travimber': 'V4+', 'Ringer Direct': 'V5', 'Timber right': 'V5', 'Bongo Drum': 'V5', 'Easy Peasy': 'V5', 'Seams Easy': 'V5', 'Lucky': 'V5', 'Timber': 'V6', 'Classy Trashy': 'V6-7', 'Log Rider': 'V6-7', 'The Pawn Shop': 'V7', 'Piece of Cake': 'V7', \"Fool's Gold\": 'V7', \"Garth's Roof\": 'V7+', 'Limber (Direct Timber)': 'V7-8', 'Leaf Blower': 'V7-8', 'Alzheimers': 'V8', 'Blue Steel': 'V8', 'Surprise': 'V8', 'Hamma': 'V9', 'J Rich': 'V9', 'Pawn Stars Direct': 'V9', 'Surprise Sit (right)': 'V9', 'Surprise Direct': 'V10', 'Le Tigre aka Pinkies Up': 'V10', 'Scat': 'V1', 'Crystal Funk': 'V2', 'Rock Off': 'V4', \"Stevie's Arete\": 'V5', 'Stink Bot': 'V5-6', 'Mr. T': 'V7', 'Golden': 'V7', 'Nippleliminate': 'V8', 'Kill it in the Evening': 'V10', 'Snowbird Crack': 'V0', 'Fakie Face': 'V0-1', 'Powderbird': 'V1', 'Lurp': 'V2', 'Fakie': 'V2', 'Kicker': 'V3', 'Backstroke': 'V4', 'Go Cave': 'V4', 'I Am Sam': 'V5', 'Crash': 'V5', 'Dick Van Dyke': 'V6', 'Ping': 'V7', 'Lurp Sit': 'V8-', 'Dick Ping': 'V9', 'Wheel of Snowbird': 'V10', 'Dick Van Dyke Aller Retour': 'V10', 'Flight of the Conchords': 'V4', 'Short Wonder': 'V4', 'Handsome Blunderstone': 'V5', 'Handsome Jansen': 'V6', \"Jansen's Move\": 'V6', 'Super Matt’s Chunk Roof': 'V7-', \"Matt's Cave\": 'V7+', 'Congress of Strength': 'V10-', 'Great Day of Jezreel': 'V10', 'Superchunk': 'V10', \"Matt's Roof to Left Lip Traverse.\": 'V10', 'Inception': 'V11', 'Short 2': 'V0', 'Easy and Short': 'V0', 'Short and Easy': 'V0', 'No v1': 'V0', 'Unnamed Slab': 'V0', 'Short': 'V0', 'Caboose Mantles': 'V6-7', 'High Life': 'V7', 'Short Rail': 'V2', \"Cronin's Egg\": 'V8', 'Interloper': 'V3', 'Short Tom': 'V3+', 'Tom’s Arete': 'V4', 'Shallow': 'V8', 'Wormography': 'V6+', 'Dead Worms': 'V9', 'Big Time': 'V9', 'Funny Arete': 'V4', 'Triple Threat': 'V9', 'Wrist Rocket': 'V9', 'Southeast Corner': 'V2-', 'Dirty Sanchez': 'V6', \"Cronin's Arete\": 'V6', 'Gentleman Jack': 'V9', 'O Face': 'V11', 'Starter': 'V5+', 'Pullover': 'V7+', 'Loggerhead': 'V8', 'Bro Bra Kahn': 'V8', 'Steep Arete aka Turd Burglar': 'V8', 'Jumper': 'V8-9', 'Thicket': 'V9', 'Junk Funk': 'V0', 'Erected for Nublic Pudity': 'V3', 'Rock Climb': 'V6', 'Doc Heinous': 'V6-7', 'Hugging Trees': 'V0', 'Manual Jackhammer': 'V4', 'Righteous Binky': 'V6-7', 'Deny a Binky': 'V7', 'Sean John': 'V9', \"Bird's nest\": 'V11', 'The Nose': 'V4', 'Tolerance Test': 'V7-8', 'Busy Bee': 'V4', 'MC Scoop': 'V6-7', 'The Buzz': 'V7', 'Helen Keller': 'V7-8', 'Flip': 'V9-', 'Blind, Deaf, and Dumb': 'V10', 'Brutus': 'V7', \"Lil'\": 'V2', 'Out the Barrel': 'V4', '1 in the Chamber': 'V6', 'Easy Jon': 'V0', \"Jonathan's Slab\": 'V2-3', \"Johnny's slab\": 'V5', 'Buzzly': 'V1', 'Shag': 'V1+', 'Buzz Mantle': 'V2', 'Buzzface': 'V2', 'Short Crack': 'V4', 'Big Man on Campus': 'V4', 'Rocky II': 'V4', 'Sorority Girls (Low Start)': 'V6', \"Jonny's Campus Problem\": 'V7', 'Mini-Bopp': 'V7', 'The Butt': 'V8-', 'River Spirit': 'V4-5', 'World Pool': 'V5', 'The Crippler': 'V8-', 'Huge': 'V9', 'Tiny': 'V11', 'Downclimb': 'V0', 'Unknown Slab Arete above Ready t…': 'V0-1', 'Confusion Dance': 'V0-1', 'Paul Bunyon': 'V1', 'Cuboid': 'V1', 'Fusion Dance': 'V1', 'Saugh': 'V1+', 'Slab (Dean Boulder)': 'V2', 'Espresso': 'V2', 'Duck Feet Traverse': 'V2', 'Another Slab/Tricky Slab': 'V2', 'Safety First': 'V2-3', 'Safety Last': 'V2-3', 'Jump Problem': 'V2-3', 'Center Slab/\"Blue Suede Knickers\"': 'V3', \"Bob's slab\": 'V3', 'Bob Face': 'V3', 'Love It or Leave It': 'V3', 'Slappy White': 'V3', 'Face Value': 'V3+', 'Grovelina': 'V3-4', 'Beachball Slab': 'V3-4', 'Papa Bells Arete / Great White': 'V3-4', 'Loui Problem': 'V4', 'Der Untergriff': 'V4', 'Unknown slab face above Ready to…': 'V4', 'T.J. V4 / Teej’s Sister': 'V4', 'Edge Problem Right': 'V4', 'Small Corner': 'V4', 'Matt Problem': 'V4', 'Classic': 'V4', 'Goofy Traverse': 'V4', 'Gluesicle / Unnamed': 'V4', 'Traverse into Slappy White': 'V4', 'Sad Faced Clown': 'V4', 'Smooth Sailing': 'V4', 'Summer in Siam': 'V4+', 'Smurf gurth': 'V4-5', 'Hop, Skip, and a Hump': 'V4-5', 'Dem Come': 'V4-5', 'Creature of Habit': 'V5', 'Campus problem low': 'V5', 'Unknown Roof': 'V5', 'Green': 'V5', 'Moss Crack': 'V5', \"Bob's Arete\": 'V5', \"Will's Face (Stand Start)\": 'V5+', 'Kind of a Corner': 'V5+', 'Who Done It': 'V5-6', 'Konk': 'V5-6', 'Arete on Glued Edge Boulder': 'V5-6', 'Ready to Die': 'V6', 'Splat': 'V6', 'Hobbit Agitator': 'V6', 'Will Problem': 'V6', 'Spencer-Mike': 'V6', 'Big Baby Jesus': 'V6', 'The Sloth': 'V6', \"Will's Face\": 'V6+', 'Olive Juice': 'V6-7', 'Last Resort': 'V6-7', 'Quarried Arete Low Start': 'V6-7', 'Sexy Beast': 'V6-7', 'Toolshed': 'V7-', \"Beck's Face\": 'V7', 'Split': 'V7', 'Cuber': 'V7', \"God Forgives, I Don't\": 'V7', 'Monkey Fist AKA the dab room ( r…': 'V7', 'Concussed': 'V7', 'El Chupacabra': 'V7', 'Mini Maisch': 'V7', \"Farmer's Tan\": 'V7', 'First Down': 'V7', 'infest the rats nest': 'V7+', 'Quarried Compression': 'V7-8', 'Graceland (??)': 'V7-8', 'Beachball Hot Sauce': 'V8-', 'Shinister': 'V8', 'Compressor Play': 'V8', \"Clams O' Plenty\": 'V8', 'Ninja Mojo': 'V8', 'Face Value SDS': 'V8-9', 'Hangover Arete': 'V9', \"Blackbeard's Delight\": 'V9', 'Prime Rib': 'V9', 'Wa Do Dem': 'V9', 'First Down Original': 'V9', 'La Llorona': 'V9', '50 Shades of Grey': 'V9', 'MB arete (?)': 'V10-', 'Brick Hard': 'V10', 'Until further notice': 'V11', 'Toolshed Low': 'V11', 'Maisch Roof': 'V11', 'Further Right': 'V11', 'Bushwhack Slab': 'V1', 'In The Shrubs': 'V2', 'Bushbash': 'V2', 'Kate Moss': 'V0', 'Mushroom': 'V0', 'Charlie’s Arete': 'V2', \"Kate's Lip\": 'V2', \"Charlie's Arete\": 'V2', 'Sorry Charlie': 'V3', 'DUH': 'V3+', \"Steve's Problem\": 'V4', \"Dale's Arete\": 'V4', 'Weird Bulge': 'V4', 'Whiskey': 'V7', 'Hard Liquor': 'V7-8', 'Everything Stays': 'V7-8', 'Whiskey Sour': 'V9', 'Gerbils': 'V9', 'Duct Tape': 'V9', 'Warm Up Slabs': 'V1-2', \"'Round the Sun\": 'V2', 'PAC-MAN': 'V4', 'Drama': 'V5-', 'Concussed / Jormungandr Stand': 'V5', 'Concussed \"Low\"': 'V7-', 'Sundial': 'V8', 'Jormungandr': 'V10', 'A Simple Misunderstanding': 'V10', 'Somebody Please Love Me': 'V0', 'Mighty Fine': 'V2', 'Trout': 'V3', 'Boom Boom': 'V4', 'Petite Syrah': 'V5', \"Gone 'Til November\": 'V7', 'Lost In the Shuffle': 'V9', 'Slapfight': 'V3-4', 'Blind Spot Campus': 'V4-5', 'The Blindspot': 'V8', 'The Blindspot Low': 'V10', 'Chief Oshkosh': 'V2', 'Minocqua': 'V5', 'Digital Artifact': 'V2', 'Red Shift': 'V4', 'Blue Shift': 'V5', 'Lens Flare': 'V6', 'The Dark Crystal': 'V1+', 'The Pyrite Pirate': 'V3', 'Death From Above': 'V3-4', 'Black Heart': 'V4', 'The Wire Trail': 'V4', 'Beaver Head': 'V5', 'Crimpin Connies': 'V8', 'Gail Force Sunshine': 'V4', 'Set Adrift': 'V4', 'Plata o Plomo': 'V5', 'Tree Straddler': 'V5', 'Red Carpet': 'V6', 'Head Game': 'V6', 'The Great Divide': 'V10-', 'Blue Balloon': 'V6', 'Unknown between Choplifter and G…': 'V2-3', 'Choplifter': 'V4', 'Giraffes in the Air': 'V4', 'Mega Man': 'V4', 'Traverse Seam (left)': 'V4', 'Tricky': 'V4', 'The Way Out': 'V4', 'Green Eggs': 'V4-5', 'Leave Nothing Behind': 'V8', 'Highborn - Middle Start': 'V4', 'Highborn': 'V7', 'Full Authority': 'V4', 'Holy': 'V4', 'Holy Hollow Flake Sit': 'V4', 'Crack House': 'V4', 'Batman and Robin': 'V4', 'The Druid': 'V4', 'Dan’s Problem': 'V4', 'Trail of Fears': 'V4', 'Junkie Arete': 'V4', 'Birthday Surprise': 'V7', 'Unmistakeable': 'V7', 'Redheaded Ramblings': 'V5-6', 'Feral Cats': 'V4', 'Blueberry': 'V5-6', 'Red Letter Day': 'V10', 'Red Letter Day Low': 'V11', 'Thorny Crack': 'V0', 'Warm Jordans': 'V2', 'Mini Jordan': 'V3', 'Show Off Da Jordans': 'V3', 'Right Shoe': 'V3', 'Wet Shoes': 'V4+', 'Who Snatched My Jordans?': 'V4-5', 'Air Jordan Run Start': 'V5', 'Pond Whale': 'V6', 'Tortoise Shell': 'V6-7', 'Scary Arete': 'V7-8', 'Air Jordan': 'V10-', 'Neurosis': 'V8', 'Naiad': 'V5+', 'Easy traverse': 'V1', \"2 o'clock\": 'V5', 'End of Daze': 'V8', 'Crab Core': 'V8', 'JPL project': 'V12'}\n"
     ]
    }
   ],
   "metadata": {}
  },
  {
   "cell_type": "code",
   "execution_count": null,
   "source": [
    "# format data for mongodb\n",
    "\"\"\"\n",
    "\n",
    "\n",
    "\n",
    "\"\"\"\n",
    "# mongoObj = {\n",
    "#     \"name\" : String,\n",
    "#     \"grade\" : Number,\n",
    "#     \"id\": Number,\n",
    "#     \"sends\": Number\n",
    "# }\n",
    "\n"
   ],
   "outputs": [],
   "metadata": {}
  }
 ],
 "metadata": {
  "orig_nbformat": 4,
  "language_info": {
   "name": "python",
   "version": "3.9.12",
   "mimetype": "text/x-python",
   "codemirror_mode": {
    "name": "ipython",
    "version": 3
   },
   "pygments_lexer": "ipython3",
   "nbconvert_exporter": "python",
   "file_extension": ".py"
  },
  "kernelspec": {
   "name": "python3",
   "display_name": "Python 3.9.12 64-bit ('base': conda)"
  },
  "interpreter": {
   "hash": "fa55d78ec90d00280d0bb2e34b5c340596f49d7ec78bad50b13f85786034389d"
  }
 },
 "nbformat": 4,
 "nbformat_minor": 2
}