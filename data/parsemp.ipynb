{
 "cells": [
  {
   "cell_type": "markdown",
   "source": [
    "## Get Crag and Boulder Data from Mountain Project"
   ],
   "metadata": {}
  },
  {
   "cell_type": "code",
   "execution_count": 1,
   "source": [
    "from html.parser import HTMLParser\n",
    "import requests\n",
    "from bs4 import BeautifulSoup\n",
    "import json\n",
    "import random\n",
    "import pymongo\n",
    "import json\n",
    "from pymongo import MongoClient, InsertOne\n",
    "\n",
    "# url = 'https://www.mountainproject.com/route-finder?diffMaxaid=75260&diffMaxboulder=21700&diffMaxice=38500&diffMaxmixed=60000&diffMaxrock=5500&diffMinaid=70000&diffMinboulder=20000&diffMinice=30000&diffMinmixed=50000&diffMinrock=1800&is_sport_climb=1&is_top_rope=1&is_trad_climb=1&pitches=0&selectedIds=105880382&sort1=area&sort2=rating&stars=0&type=boulder&viewAll=1'\n",
    "# html_from_url = requests.get(url).text\n",
    "# html_soup = BeautifulSoup(html_from_url, 'html.parser')\n",
    "\n",
    "url = 'https://www.mountainproject.com/'\n",
    "html_from_url = requests.get(url).text\n",
    "soup = BeautifulSoup(html_from_url, 'html.parser')\n"
   ],
   "outputs": [],
   "metadata": {}
  },
  {
   "cell_type": "code",
   "execution_count": 2,
   "source": [
    "def getStates():\n",
    "    crags = {}\n",
    "    for div in soup.find_all(\"div\", { \"id\": \"route-guide\"}):\n",
    "        strong = []\n",
    "        for state in div.select(\"strong\"):\n",
    "            strong.append(state)\n",
    "    return strong\n",
    "        \n",
    "states_html = getStates()\n"
   ],
   "outputs": [],
   "metadata": {}
  },
  {
   "cell_type": "code",
   "execution_count": 3,
   "source": [
    "def getCrags(html):\n",
    "    for location in html:\n",
    "                a = location.find_all_next(\"div\", { \"class\" : \"ml-half\"})\n",
    "                for crag in a:\n",
    "                    return crag.find(\"a\").get_text()\n",
    "                    \n",
    "crags = getCrags(states_html)"
   ],
   "outputs": [],
   "metadata": {}
  },
  {
   "cell_type": "code",
   "execution_count": 161,
   "source": [
    "lcc_url = 'https://www.mountainproject.com/route-finder?diffMaxaid=75260&diffMaxboulder=21700&diffMaxice=38500&diffMaxmixed=60000&diffMaxrock=5500&diffMinaid=70000&diffMinboulder=20000&diffMinice=30000&diffMinmixed=50000&diffMinrock=1800&is_sport_climb=1&is_top_rope=1&is_trad_climb=1&page=6&pitches=0&selectedIds=105739277&sort1=area&sort2=rating&stars=0&type=boulder&viewAll=1'\n",
    "content = []\n",
    "\n",
    "def getPages(page):\n",
    "    # initialize dictionary\n",
    "    dict = {}\n",
    "\n",
    "    html_from_url = requests.get(page, '').text\n",
    "    soup = BeautifulSoup(html_from_url, 'html.parser')\n",
    "    soup_row = soup.find_all(\"tr\", {\"class\" : \"route-row\"})\n",
    "    for item in soup.select(\"div.main-content-container tr.route-row td\"):\n",
    "        if item.select(\"div.text-truncate > strong\") != []:\n",
    "            dict[item.select(\"div.text-truncate > strong\")[0].text] = item.select(\"span.rateYDS\")[0].text\n",
    "    \n",
    "    return dict\n",
    "\n",
    "boulder_dict = getPages(lcc_url)"
   ],
   "outputs": [],
   "metadata": {}
  },
  {
   "cell_type": "code",
   "execution_count": null,
   "source": [
    "# format data for mongodb\n",
    "\"\"\"\n",
    "mongoObj = {\n",
    "    \"name\" : String,\n",
    "    \"grade\" : Number,\n",
    "    \"id\": Number,\n",
    "    \"sends\": Number\n",
    "}\n",
    "\"\"\"\n",
    "\n",
    "mongo_dict = {}\n",
    "def genData(dict): \n",
    "    name = 0\n",
    "    grade = 0\n",
    "    id = random.randint(0, 2000)\n",
    "    return {\n",
    "        'name' : name,\n",
    "        'grade' : grade,\n",
    "        'id': id,\n",
    "        'sends': []\n",
    "    }\n",
    "\n",
    "genData(boulder_dict)"
   ],
   "outputs": [],
   "metadata": {}
  }
 ],
 "metadata": {
  "orig_nbformat": 4,
  "language_info": {
   "name": "python",
   "version": "3.9.12",
   "mimetype": "text/x-python",
   "codemirror_mode": {
    "name": "ipython",
    "version": 3
   },
   "pygments_lexer": "ipython3",
   "nbconvert_exporter": "python",
   "file_extension": ".py"
  },
  "kernelspec": {
   "name": "python3",
   "display_name": "Python 3.9.12 64-bit ('base': conda)"
  },
  "interpreter": {
   "hash": "fa55d78ec90d00280d0bb2e34b5c340596f49d7ec78bad50b13f85786034389d"
  }
 },
 "nbformat": 4,
 "nbformat_minor": 2
}